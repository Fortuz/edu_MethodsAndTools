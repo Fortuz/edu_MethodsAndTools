{
 "cells": [
  {
   "cell_type": "markdown",
   "metadata": {},
   "source": [
    "<img src=\"pics/logo.png\">\n",
    "\n",
    "Made by **Balázs Nagy**, **Márk Domonkos**\n",
    "\n",
    "[<img src=\"pics/open_button.png\">](https://colab.research.google.com/github/Fortuz/edu_MethodsAndTools/blob/main/practices/P08/LogisticRegression.ipynb)"
   ]
  },
  {
   "cell_type": "markdown",
   "metadata": {},
   "source": [
    "# Logistic regresion\n",
    "### Admission to a University:\n",
    "\n",
    "In this exercise, we will use logistic regression to predict the admission of a given student to the university.\n",
    "\n",
    "Suppose that we are university administrators and we want to determine the probability of a given applicant to be admitted successfully based on the results of two admission tests. We have at our disposal the results so far, labelled as to whether the student's application was successful or not.\n",
    "\n",
    "We can use this dataset for our logistic regression."
   ]
  },
  {
   "cell_type": "markdown",
   "metadata": {},
   "source": [
    "### 1: Data aquisition (and package imports)"
   ]
  },
  {
   "cell_type": "code",
   "execution_count": 1,
   "metadata": {},
   "outputs": [
    {
     "name": "stdout",
     "output_type": "stream",
     "text": [
      "X: (100, 2)\n",
      "Y: (100, 1)\n",
      "Num. of samples: 100\n",
      "Num. of features: 2\n"
     ]
    }
   ],
   "source": [
    "import numpy as np\n",
    "import matplotlib.pyplot as plt\n",
    "import pandas as pd\n",
    "\n",
    "data = pd.read_csv('data3.txt', header = None).to_numpy()          # data aquisition + convert to numpy array\n",
    "X = data[:,0:2]                                                    # data sorting: X\n",
    "m,n = X.shape                                                      # m = num. of samples / n = num. of features\n",
    "Y = data[:,2].reshape(m,1)                                         # data sorting: Y\n",
    "del data                                                           # deleting non-used variables\n",
    "X_original = X.copy()                                              # making a copy of X     \n",
    "\n",
    "print(('X: {}\\nY: {}\\nNum. of samples: {}\\nNum. of features: {}').format(X.shape, Y.shape, m, n))      # print the dimensions and m;n"
   ]
  },
  {
   "cell_type": "markdown",
   "metadata": {},
   "source": [
    "### 2: Plotting our data"
   ]
  },
  {
   "cell_type": "code",
   "execution_count": 2,
   "metadata": {},
   "outputs": [
    {
     "data": {
      "image/png": "[encoded data removed]",
      "text/plain": [
       "<Figure size 432x288 with 1 Axes>"
      ]
     },
     "metadata": {
      "needs_background": "light"
     },
     "output_type": "display_data"
    }
   ],
   "source": [
    "def plotData(X,Y):\n",
    "    pos=[]                                                  # Admit - 1\n",
    "    neg=[]                                                  # Denied - 0\n",
    "\n",
    "    for i in range(0,Y.size):                               # based on Y vactor we sort the rows of X \n",
    "        if Y[i] ==0:                                        # if Y[row] == 0 then X[row] --> neg; \n",
    "            neg.append(X[i,:])\n",
    "        elif Y[i] ==1:                                      # if Y[row] == 1 then X[row] --> pos; \n",
    "            pos.append(X[i,:])\n",
    "\n",
    "    neg = np.array(neg)                                     # neg to NumPy array\n",
    "    pos = np.array(pos)                                     # pos to NumPy array\n",
    "\n",
    "    plt.scatter(neg[:,0],neg[:,1],marker='x',c=\"r\", label=\"Not admitted\")   # plotting denied with red crosses\n",
    "    plt.scatter(pos[:,0],pos[:,1],marker='o',c=\"g\", label=\"Admitted\")       # plotting admitted with green circles\n",
    "    plt.title(\"Training data\")\n",
    "    plt.xlabel(\"Exam 1 score\")\n",
    "    plt.ylabel(\"Exam 2 score\")\n",
    "    plt.legend(loc='lower left')\n",
    "    plt.show()\n",
    "\n",
    "    return pos, neg                                          # returning the two array\n",
    "\n",
    "pos,neg=plotData(X,Y)"
   ]
  },
  {
   "cell_type": "markdown",
   "metadata": {},
   "source": [
    "It can bee seen that the data are with a good estimate (minimal error) linearly (with a straight line) separable.\n",
    "\n",
    "### 3: Data  preparation\n",
    "##### Data normalization:\n",
    "If the data are within an order of magnitude, normalisation is not strictly necessary, but it can be done.\n",
    "\n",
    "(then we add the BIAS so the intersection with the axis will still be in our hypothesis)"
   ]
  },
  {
   "cell_type": "code",
   "execution_count": 4,
   "metadata": {},
   "outputs": [],
   "source": [
    "def featureNormalization(X):\n",
    "#######################################    \n",
    "    mean = np.mean(X,axis=0)                               # means of the columns of X\n",
    "    std = np.std(X, axis=0, ddof=1)                        # standard deviation of the columns of X (ddof = 1)                                        \n",
    "\n",
    "    X_norm = (X - mean) / std                              \n",
    "#######################################\n",
    "    return X_norm, mean, std                                 \n",
    "\n",
    "X, mean, std = featureNormalization(X_original)            # normalization"
   ]
  },
  {
   "cell_type": "code",
   "execution_count": 5,
   "metadata": {},
   "outputs": [
    {
     "name": "stdout",
     "output_type": "stream",
     "text": [
      "dim. of X: (100, 3)\n",
      "X:\n",
      "[[ 1.         -1.59421626  0.63514139]\n",
      " [ 1.         -1.81710142 -1.20148852]\n",
      " [ 1.         -1.53132516  0.35948329]\n",
      " [ 1.         -0.28068724  1.08092281]\n",
      " [ 1.          0.68806193  0.49090485]\n",
      " [ 1.         -1.05667395 -0.53305397]\n",
      " [ 1.         -0.23319754  1.62997263]\n",
      " [ 1.          0.48208266 -1.05839822]\n",
      " [ 1.          0.53727995  1.14076409]\n",
      " [ 1.          0.96558389 -1.22094762]\n",
      " [ 1.          1.55293123 -1.50659457]\n",
      " [ 1.          0.48151286 -1.91675998]\n",
      " [ 1.          0.85633616  0.5521221 ]\n",
      " [ 1.          0.19119499  1.69493955]\n",
      " [ 1.         -1.34164029  0.528167  ]\n",
      " [ 1.         -0.59991204  1.23691656]\n",
      " [ 1.          0.17606285 -0.72548489]\n",
      " [ 1.          0.11833462 -1.05169521]\n",
      " [ 1.          0.25784655  1.43709044]\n",
      " [ 1.          0.58250489 -1.00340376]\n",
      " [ 1.          0.08879298 -1.25834541]\n",
      " [ 1.          1.23508208 -0.02274321]\n",
      " [ 1.         -0.77650905 -0.93453099]\n",
      " [ 1.         -1.61536921 -1.18456258]\n",
      " [ 1.          0.63108629  0.14800592]\n",
      " [ 1.         -0.17335912  0.20085581]\n",
      " [ 1.          0.74754551 -1.15162347]\n",
      " [ 1.          1.41174843 -1.47563084]\n",
      " [ 1.         -0.19601318 -0.85917648]\n",
      " [ 1.         -1.3803147  -0.06599211]\n",
      " [ 1.         -0.21918676  0.35440812]\n",
      " [ 1.          1.01552162 -0.49346829]\n",
      " [ 1.         -0.69565935 -0.16651835]\n",
      " [ 1.         -0.69887522  0.17278693]\n",
      " [ 1.         -1.30574006  0.26614689]\n",
      " [ 1.         -0.56578491 -0.75382208]\n",
      " [ 1.         -1.63061011  1.75686481]\n",
      " [ 1.         -0.07540695  0.79030479]\n",
      " [ 1.          0.46998018 -1.32642042]\n",
      " [ 1.         -1.61682982  0.48516534]\n",
      " [ 1.          0.93832414 -0.533502  ]\n",
      " [ 1.         -0.7244523  -1.04213173]\n",
      " [ 1.          1.48004752 -0.03514417]\n",
      " [ 1.          0.85950707 -1.37782069]\n",
      " [ 1.         -0.75014675 -1.0977525 ]\n",
      " [ 1.         -0.17584331 -0.7620498 ]\n",
      " [ 1.          0.59351572  0.2279638 ]\n",
      " [ 1.          1.65109252  1.1034851 ]\n",
      " [ 1.         -0.1835322   1.64382407]\n",
      " [ 1.          1.33212069  1.20941489]\n",
      " [ 1.          0.73493579  0.42733757]\n",
      " [ 1.          1.72822843 -0.28106485]\n",
      " [ 1.          1.27979009 -1.2286317 ]\n",
      " [ 1.         -1.59931158 -0.31349748]\n",
      " [ 1.         -0.78926932 -0.88347689]\n",
      " [ 1.         -0.82523453 -0.34510692]\n",
      " [ 1.          1.64461889  0.1420441 ]\n",
      " [ 1.         -1.69938823  1.58084768]\n",
      " [ 1.          0.44219956  0.19386618]\n",
      " [ 1.          0.31617421  0.65822025]\n",
      " [ 1.          0.50114226  1.05140003]\n",
      " [ 1.         -1.56017137 -1.03329432]\n",
      " [ 1.         -0.48259581 -1.45083358]\n",
      " [ 1.         -1.82881309 -0.89486188]\n",
      " [ 1.         -1.0780025   0.01227416]\n",
      " [ 1.          0.0471071  -1.35232166]\n",
      " [ 1.         -1.29440001  1.68506447]\n",
      " [ 1.         -0.85165595 -0.77161673]\n",
      " [ 1.          0.75213962  1.39344374]\n",
      " [ 1.          0.056657   -0.28147582]\n",
      " [ 1.         -1.69190384 -1.23312127]\n",
      " [ 1.         -0.08248203  0.63551783]\n",
      " [ 1.          0.34444155  1.61469866]\n",
      " [ 1.         -0.26653968  0.36985849]\n",
      " [ 1.         -0.34963717  0.51856873]\n",
      " [ 1.          1.75676808  0.33080372]\n",
      " [ 1.         -0.94458809  1.19755296]\n",
      " [ 1.         -0.78044716  0.51595401]\n",
      " [ 1.         -0.26665939 -1.27610534]\n",
      " [ 1.          0.85220465 -1.2647255 ]\n",
      " [ 1.          1.19587607  0.19274781]\n",
      " [ 1.          1.500149   -1.10466184]\n",
      " [ 1.          0.08608101  0.01976857]\n",
      " [ 1.         -0.43198025 -0.36096402]\n",
      " [ 1.          0.75662009  1.33124031]\n",
      " [ 1.          0.14514418  1.04248696]\n",
      " [ 1.         -1.21125246  0.67927328]\n",
      " [ 1.          0.50536107  1.30241745]\n",
      " [ 1.          0.66764323  1.6372913 ]\n",
      " [ 1.         -0.68332399 -0.29341637]\n",
      " [ 1.          1.46210978  0.5885613 ]\n",
      " [ 1.          1.27474528  1.14551161]\n",
      " [ 1.         -0.5222529  -1.64944586]\n",
      " [ 1.          0.4547393   1.00217167]\n",
      " [ 1.          1.24376895 -1.12274434]\n",
      " [ 1.          0.91708731 -0.96012057]\n",
      " [ 1.         -1.20168086  1.12372042]\n",
      " [ 1.          1.73041166  0.13740737]\n",
      " [ 1.         -0.52955796 -0.06942233]\n",
      " [ 1.          0.46929359  1.25426933]]\n"
     ]
    }
   ],
   "source": [
    "if (X.shape[1] == 2):                                   # only add bias when it is needed (don't add bias multiple times)  \n",
    "#######################################                 # don't forget the indentation (because the if)\n",
    "    X = np.column_stack((np.ones((m,1)),X))             # bias\n",
    "#######################################\n",
    "print(('dim. of X: {}\\nX:\\n{}').format(X.shape, X))     # for checking print the dimensions + X"
   ]
  },
  {
   "cell_type": "markdown",
   "metadata": {},
   "source": [
    "## 5: The model:\n",
    "\n",
    "Since we are facing a classification problem, our linear regression model will not be fully adequate. Let's look at a simple example. We are trying to decide whether a tumour is lethal or not based on tumour size.\n",
    "\n",
    "<img src=\"Pics/L03_Tumor.png\" width=\"400\">\n",
    "\n",
    "Using the method introduced so far and the\n",
    "\n",
    "$ h_w(x)=XW $ \n",
    "\n",
    "hypothesis is used to fit a line. However, our line exceeds the bounded [0,1] set and is not precise enough. By defining a limit for our fitted line, let it be 0.5, we can decide what our prediction will be.\n",
    "\n",
    "If $h_w(x)\\geq 0.5$, then \"y=1\", this way it is malign. <br>\n",
    "If $h_w(x)< 0.5$, then \"y=0\", this way it is beningn.  <br>\n",
    "\n",
    "However, our prediction may fall below 0 or above 1, which is unnecessary. It would be better to find a bounded hypothesis function that satisfies the following criterion:\n",
    "\n",
    "$0\\leq h_w(x) \\leq 1$\n",
    "\n",
    "Let us introduce the sigmoid function, which satisfies this criterion of being bounded on [0,1].\n",
    "\n",
    "Sigmoid:\n",
    "\n",
    "$ g(z) = \\frac{1}{1+e^{-z}} $\n",
    "\n",
    "<img src= \"Pics/L03_sigmoid.png\" width=450>\n",
    "\n",
    "Using the sigmoid function, we effectively assign a probability to each sample that the tumour size is malign or not. \n",
    "\n",
    "$h_w(x)=P(y=1|X, W)$\n",
    "\n",
    "And we can extend our hypothesis as follows: <br>\n",
    "\n",
    "$ h_w(x) = g(XW) $ <br>\n",
    "\n",
    "where $ g(XW) = \\frac{1}{1+e^{-XW}} $\n",
    "\n",
    "$g(XW)\\geq0.5$ <br>\n",
    "\n",
    "then, if $WX\\geq0$\n",
    "\n",
    "Let's look at two simple examples of classification using a sigmoid function. <br>\n",
    "\n",
    "#### Linear case:\n",
    "\n",
    "$ h_w(x)=g(w_01+w_1x_1+w_2x_2) $\n",
    "\n",
    "$w=[-3\\ 1\\ 1]$ \n",
    "\n",
    "Prediction: $y=1$ if $-3+x_1+x_2\\geq0$\n",
    "\n",
    "$x_1+x_2\\geq3$ \n",
    "\n",
    "<img src= \"Pics/L03_pelda_1.png\" width=200>\n",
    "\n",
    "#### Non-linear case:\n",
    "\n",
    "$ h_w(x)=g(w_01+w_1x_1+w_2x_2+w_3x_1^2+w_4x_2^2) $ \n",
    "\n",
    "$w=[-1\\ 0\\ 0\\ 1\\ 1]$ \n",
    "\n",
    "Prediction: $y=1$ if $-1+x_1^2+x_2^2\\geq0$\n",
    "\n",
    "$x_1^2+x_2^2\\geq1$\n",
    "\n",
    "<img src= \"Pics/L03_pelda_2.png\" width=200>\n",
    "\n",
    "Create the sigmoid function and test the result for -6, 0, 6!"
   ]
  },
  {
   "cell_type": "code",
   "execution_count": 6,
   "metadata": {},
   "outputs": [
    {
     "name": "stdout",
     "output_type": "stream",
     "text": [
      "Result for input -6: 0.0024726231566347743\n",
      "Result for input  0: 0.5\n",
      "Result for input  6: 0.9975273768433653\n",
      "\n",
      " The function works.\n"
     ]
    }
   ],
   "source": [
    "def sigmoid(z):\n",
    "############################################    \n",
    "    g = 1/(1 + np.exp(-z))\n",
    "############################################    \n",
    "    return g                               \n",
    "\n",
    "print(('Result for input -6: {}\\nResult for input  0: {}\\nResult for input  6: {}').format(sigmoid(-6), sigmoid(0), sigmoid(6)))           # teszt -6 -ra\n",
    "if sigmoid(-6) < 0.01 and sigmoid(0) == 0.5 and sigmoid(6) > 0.99:\n",
    "    print(\"\\n The function works.\")\n",
    "else:\n",
    "    print(\"\\n Something went wrong. Correction is needed!\")"
   ]
  },
  {
   "cell_type": "markdown",
   "metadata": {},
   "source": [
    "### 6 Cost function:\n",
    "\n",
    "Since we have changed our hypothesis function, we need to change the cost function we have been using to adapt it to the task. The MSE introduced in our previous examples provided a reasonably smooth convergence, with our modified hypothesis it is not the best choice for solving classification problems as it will result in a non-convex function with many local mininmum points. The question is, can we find a cost function that can define a convex cost function in classification problems? On a convex function, our gradient method is much less likely to get stuck at a local minimum.\n",
    "\n",
    "<img src=\"Pics/L03_Costfunction.png\" width=600>\n",
    "\n",
    "\n",
    "Let:\n",
    "\n",
    "$ C(w) = {-log(h_w(x)),\\   if\\ y=1} $ \n",
    "\n",
    "$ C(w) = {-log(1-h_w(x)),\\ if\\ y=0} $\n",
    "\n",
    "<img src=\"Pics/L03_LogCost.png\" width=300>\n",
    "\n",
    "So we use the following relation as the cost function:\n",
    "\n",
    "$ C(w) = \\frac{1}{m} \\sum{-y^i\\cdot\\log(h_w(x^i))-(1-y^i)\\cdot\\log(1-h_w(x^i))} $\n",
    "\n",
    "\n",
    "### 7: Gradient Descent Algorithm\n",
    "Our aim remains to minimise the cost function. Gradient reduction is still a suitable way for the tuning of the weights by using the derivative of the cost function.\n",
    "\n",
    "$w_j:=w_j-\\mu\\frac{\\partial}{\\partial w_j}C(w)$ \n",
    "\n",
    "The partial derivative of the cost function can be calculated in the usual way:\n",
    "\n",
    "$ \\frac{\\partial}{\\partial w_j}C(w)=\\frac{1}{m}\\sum_{i=1}^{m}(h_w(x^i)-y^i)\\cdot x_j^i $\n",
    "\n",
    "\n",
    "\n",
    "### costFunction definition:"
   ]
  },
  {
   "cell_type": "code",
   "execution_count": 7,
   "metadata": {},
   "outputs": [
    {
     "name": "stdout",
     "output_type": "stream",
     "text": [
      "Cost and Gradient  at initial weights (zeros):\n",
      "Expected cost (approx.): 0.693\n",
      "Computed: 0.6931471805599453\n",
      "Expected gradient(approx.):\n",
      " [[-0.1]\n",
      " [-0.28]\n",
      " [-0.25]]\n",
      "Computed:\n",
      " [[-0.1       ]\n",
      " [-0.27981946]\n",
      " [-0.24972806]]\n",
      "\n",
      "Test weights: [[-24  13  16]]\n",
      "Cost and Gradient  at test weights:\n",
      "Expected cost (approx.): 7.74\n",
      "Computed: 7.747803887700628\n",
      "Expected gradient(approx.):\n",
      " [[-0.44]\n",
      " [-0.14]\n",
      " [-0.06]]\n",
      "Computed:\n",
      " [[-0.44154019]\n",
      " [-0.14340547]\n",
      " [-0.06486541]]\n",
      "\n",
      "\n"
     ]
    }
   ],
   "source": [
    "def costFunction(w,X,Y):\n",
    "######################################################################\n",
    "    h = np.array(sigmoid(X@w))                                              # calcutaion of the prediction \n",
    "    C = (1/m) * np.sum(((-Y) * np.log(h)) - ((1-Y)*(np.log(1-h))))          # calculation of the cost\n",
    "\n",
    "    grad = (X.transpose())@(h-Y)/m                                          # calculation of the gradient\n",
    "######################################################################\n",
    "    return C, grad                                                          \n",
    "\n",
    "initial_w = np.zeros(((n+1),1))                                             # initial weights\n",
    "C1,grad1 = costFunction(initial_w,X,Y)                                      # test 1 with w=[0; 0; 0]\n",
    "\n",
    "print('''Cost and Gradient  at initial weights (zeros):\n",
    "Expected cost (approx.): 0.693\n",
    "Computed:''',C1)\n",
    "print('''Expected gradient(approx.):\n",
    " [[-0.1]\n",
    " [-0.28]\n",
    " [-0.25]]\n",
    "Computed:\\n''',grad1)\n",
    "\n",
    "test_w = np.array([[-24], [13], [16]])                                    # test weights w=[-24;0.2;0.2]\n",
    "C2, grad2 = costFunction(test_w,X,Y)                                      # test 2\n",
    "print('\\nTest weights:',test_w.transpose())\n",
    "print('''Cost and Gradient  at test weights:\n",
    "Expected cost (approx.): 7.74\n",
    "Computed:''',C2)\n",
    "print('''Expected gradient(approx.):\n",
    " [[-0.44]\n",
    " [-0.14]\n",
    " [-0.06]]\n",
    "Computed:\\n''',grad2)\n",
    "print('\\n')"
   ]
  },
  {
   "cell_type": "markdown",
   "metadata": {},
   "source": [
    "### 8: Gradiens descent method:"
   ]
  },
  {
   "cell_type": "code",
   "execution_count": 8,
   "metadata": {},
   "outputs": [],
   "source": [
    "def gradientDescent(X,Y,w,learning_rate,num_iters):\n",
    "    C_history = []                                      # history of cost function initialization\n",
    "##################################################\n",
    "    for i in range(num_iters):                          # loop till the number of epoch is reached \n",
    "        C, grad = costFunction(w,X,Y)                   # calculation: Cost function / gradient\n",
    "        w = w - (learning_rate*grad)                    # setting the new weights\n",
    "        C_history.append(C)                             # C_history appended with the new values\n",
    "##################################################\n",
    "    return w, np.array(C_history)                       # returning with the weights, and the C_history calculated"
   ]
  },
  {
   "cell_type": "code",
   "execution_count": 9,
   "metadata": {},
   "outputs": [
    {
     "data": {
      "image/png": "[encoded data removed]",
      "text/plain": [
       "<Figure size 432x288 with 1 Axes>"
      ]
     },
     "metadata": {
      "needs_background": "light"
     },
     "output_type": "display_data"
    }
   ],
   "source": [
    "w = np.array([[0],[0],[0]])     # initial weights\n",
    "epoch = 400\n",
    "\n",
    "w_a, C_history_a = gradientDescent(X,Y,w,0.01,epoch)                           # calculation with lr: 0.01  \n",
    "plt.plot(range(C_history_a.size), C_history_a, label= \"learning r.:0.01\")\n",
    "                                                       \n",
    "w_b, C_history_b = gradientDescent(X,Y,w,0.1, epoch)                             \n",
    "plt.plot(range(C_history_b.size), C_history_b, label= \"learning r.:0.1\")       # calculation with lr: 0.1  \n",
    "\n",
    "w, C_history = gradientDescent(X,Y,w,1,epoch)\n",
    "plt.plot(range(C_history.size), C_history, label= \"learning r.:1\")              # calculation with lr: 1  \n",
    "\n",
    "plt.title(\"Effect of the different constants on the cost function\")\n",
    "plt.xlabel(\"Iteration\")\n",
    "plt.ylabel(\"Cost function value\")\n",
    "plt.legend()\n",
    "plt.show()"
   ]
  },
  {
   "cell_type": "markdown",
   "metadata": {},
   "source": [
    "The graph above shows how the learning rate affected our results:<br>\n",
    "When the learning rate $(\\mu)$ is chosen to be small, convergence is slow. <br>\n",
    "As the learning rate $(\\mu)$ increases, convergence accelerates.<br>\n",
    "\n",
    "(Optional: Try a few more values of learning rate!)"
   ]
  },
  {
   "cell_type": "code",
   "execution_count": 10,
   "metadata": {},
   "outputs": [
    {
     "name": "stdout",
     "output_type": "stream",
     "text": [
      "The cost function at found weights by the gradient descent alg.:\n",
      "Expected (approx): 0.203\n",
      "Computed: 0.2036\n",
      "Weights expected (approx.):\n",
      "[1.658 3.883 3.619]\n",
      "Weights computed: \n",
      " [[1.6582185  3.88371249 3.61890756]]\n"
     ]
    }
   ],
   "source": [
    "print('''The cost function at found weights by the gradient descent alg.:\n",
    "Expected (approx): 0.203\n",
    "Computed: %.04f''' % C_history[-1])\n",
    "print('''Weights expected (approx.):\n",
    "[1.658 3.883 3.619]\n",
    "Weights computed: \\n''', w.transpose())"
   ]
  },
  {
   "cell_type": "markdown",
   "metadata": {},
   "source": [
    "### 9: Plot the decision boundary"
   ]
  },
  {
   "cell_type": "code",
   "execution_count": 11,
   "metadata": {},
   "outputs": [
    {
     "data": {
      "image/png": "[encoded data removed]",
      "text/plain": [
       "<Figure size 432x288 with 1 Axes>"
      ]
     },
     "metadata": {
      "needs_background": "light"
     },
     "output_type": "display_data"
    }
   ],
   "source": [
    "plt.scatter(pos[:,0],pos[:,1],c=\"g\", marker=\"o\",label=\"Admitted\")     # plotting pos with green circles\n",
    "plt.scatter(neg[:,0],neg[:,1],c=\"r\",marker=\"x\",label=\"Not admitted\")  # plotting neg with red crosses\n",
    "\n",
    "Exam1_val     = np.array([min(X_original[:, 0])-2, max(X_original[:, 0]+2)]) # two points to print the decision boundary\n",
    "Exam1_norm = (Exam1_val - mean[0]) / std[0]\n",
    "Exam2_norm = (-w[0]-w[1]*Exam1_norm)/w[2]                                    # calculate the y coordinates for them\n",
    "Exam2_val     = (Exam2_norm * std[1]) + mean[1]\n",
    "\n",
    "plt.plot(Exam1_val,Exam2_val,\"k\")                                   # plotting the decision boundary\n",
    "plt.title(\"Decision boundary and the training data\")        \n",
    "plt.xlabel(\"Exam 1 score\")\n",
    "plt.ylabel(\"Exam 2 score\")\n",
    "plt.legend(loc=0)\n",
    "plt.show()"
   ]
  },
  {
   "cell_type": "markdown",
   "metadata": {},
   "source": [
    "### 10: Prediction\n",
    "When calculating the prediction, we have to make sure that we perform the same operations on the sample as we did in the data preparation phase before the training. So if we have normalised our data, we must also normalise the new data and add the BIAS. Then we can use our saved weight vector to calculate our prediction."
   ]
  },
  {
   "cell_type": "code",
   "execution_count": 12,
   "metadata": {},
   "outputs": [
    {
     "name": "stdout",
     "output_type": "stream",
     "text": [
      "Expected result of the prediction with [45 , 85] (approx.):\n",
      "Accepted (1) with 0.767 possibility\n",
      "Predicted: 1 with 0.7676 possibility\n"
     ]
    }
   ],
   "source": [
    "def predict(X):                                  # prediction function\n",
    "###########################################    \n",
    "    X = (X-mean)/std                             # normalization\n",
    "    X = np.append(np.ones((1)),X)                # bias\n",
    "    h = sigmoid(X@w)                             # h= sigmoid(Xw)\n",
    "    if h >= 0.5:\n",
    "        p = 1\n",
    "    else:\n",
    "        p = 0         \n",
    "###########################################    \n",
    "    return p, h                                    \n",
    "\n",
    "NewScore = np.array([45,85])\n",
    "pred, h =predict(NewScore)            # results for 45 and 85\n",
    "print('''Expected result of the prediction with [45 , 85] (approx.):\n",
    "Accepted (1) with 0.767 possibility\n",
    "Predicted: %.0f with %.4f possibility''' % (pred, h[0]))"
   ]
  },
  {
   "cell_type": "markdown",
   "metadata": {},
   "source": [
    "### 11: Accuracy\n",
    "Let's examine how our linear model performs when evaluating the original data. Calculate the accuracy of the algorithm. To do this, we can use the predict() function we wrote earlier or we can evaluate all the samples in a batch."
   ]
  },
  {
   "cell_type": "code",
   "execution_count": 13,
   "metadata": {},
   "outputs": [
    {
     "name": "stdout",
     "output_type": "stream",
     "text": [
      "89.0 % accuracy (approx. 89.0 % expected)\n"
     ]
    }
   ],
   "source": [
    "def calculateAccuracy():                                    # accuracy\n",
    "#######################################\n",
    "    predictions= (sigmoid(X@w)>0.5)                         # Calculation of predictions for all original X (sigmoid result is >0.5)\n",
    "    accuracy=(sum(predictions==Y)/m)*100                    # if the calculated prediction is the same as Y then it is correct --> make a precentage from this\n",
    "#######################################\n",
    "    return accuracy                                         \n",
    "\n",
    "print(float(calculateAccuracy()), '% accuracy (approx. 89.0 % expected)')"
   ]
  },
  {
   "cell_type": "markdown",
   "metadata": {},
   "source": [
    "## With sklearn"
   ]
  },
  {
   "cell_type": "code",
   "execution_count": 14,
   "metadata": {},
   "outputs": [
    {
     "name": "stdout",
     "output_type": "stream",
     "text": [
      "Prediction for the approval: 1 \n",
      "The value of the probability: 0.7752856046030867\n",
      "Accuracy on the training data: 0.89\n"
     ]
    }
   ],
   "source": [
    "import pandas as pd\n",
    "import numpy as np\n",
    "from sklearn.linear_model import LogisticRegression                       \n",
    "\n",
    "data = pd.read_csv('data3.txt', header = None)       # data aquisition\n",
    "XX = data.iloc[:, 0:2].values.reshape(-1, 2)            # data sorting: X\n",
    "YY = data.iloc[:, 2].values.reshape(-1,)                # data sorting: Y\n",
    "\n",
    "logReg = LogisticRegression().fit(XX,YY)\n",
    "test = np.array([[45, 85]])                             # one sample (1,2) --> [[]]\n",
    "pred = logReg.predict(test)                             # prediction\n",
    "pred_p = logReg.predict_proba(test)                     # test case\n",
    "\n",
    "print(\"\"\"Prediction for the approval:\"\"\",int(pred),\"\"\"\n",
    "The value of the probability:\"\"\",pred_p[0,1])\n",
    "\n",
    "acc = logReg.score(XX,YY)                               # accuracy\n",
    "print('Accuracy on the training data:',acc)"
   ]
  },
  {
   "cell_type": "markdown",
   "metadata": {},
   "source": [
    "# A Nonlinear case\n",
    "### Microchip Anomaly:\n",
    "\n",
    "Our task is to determine which of the microchips are defective and which are not based on the measurement results.\n",
    "\n",
    "In this exercise we will work with a non-linearly separable data set. We want to use logistic regression for classification, so we extend the non-linear case by introducing more features (polynomial regression).\n",
    "\n",
    "In this exercise we will test different regularization parameters to better understand how regularization (penalty) works and how it can be used to prevent overfitting. Observe the changes in the decision boundary as the lamdba will be changed. With a small lambda you will notice that there is almost no error in the clustering, but in return you get a very complicated curve. This is not a good decision curve, note that later it accepts (-0.25; 1.5), which seems to be an incorrect decision based on our data set.\n",
    "\n",
    "Using a larger lambda we can see that a simpler decision boundary is created that does not follow the data as closely so it is underfitted."
   ]
  },
  {
   "cell_type": "markdown",
   "metadata": {},
   "source": [
    "### 1. Make data usable (and package importing)"
   ]
  },
  {
   "cell_type": "code",
   "execution_count": 15,
   "metadata": {},
   "outputs": [
    {
     "name": "stdout",
     "output_type": "stream",
     "text": [
      "X: (118, 2)\n",
      "Y: (118, 1)\n",
      "Num. of samples: 118\n",
      "Num. of features: 2\n"
     ]
    }
   ],
   "source": [
    "import numpy as np\n",
    "import matplotlib.pyplot as plt\n",
    "import pandas as pd\n",
    "\n",
    "data = pd.read_csv('data4.txt', header = None).to_numpy()        # data aquisition then conversion to NumPy array\n",
    "X = data[:,0:2]                                                     # data sorting: X\n",
    "m,n = X.shape                                                       # num. of samples / num. of features\n",
    "Y = data[:,2].reshape(m,1)                                          # data sorting: Y\n",
    "del data                                                            # cleanup\n",
    "\n",
    "print(('X: {}\\nY: {}\\nNum. of samples: {}\\nNum. of features: {}').format(X.shape, Y.shape, m,n))"
   ]
  },
  {
   "cell_type": "markdown",
   "metadata": {},
   "source": [
    "### 2. Sorting the data  (pos/neg) and plotting it"
   ]
  },
  {
   "cell_type": "code",
   "execution_count": 16,
   "metadata": {},
   "outputs": [
    {
     "data": {
      "image/png": "[encoded data removed]",
      "text/plain": [
       "<Figure size 432x288 with 1 Axes>"
      ]
     },
     "metadata": {
      "needs_background": "light"
     },
     "output_type": "display_data"
    }
   ],
   "source": [
    "def plotData(X,Y):\n",
    "    pos = []                                                        # good elements\n",
    "    neg = []                                                        # bad elements\n",
    "\n",
    "    for i in range(0,Y.size):                                       # checking Y rows\n",
    "        if Y[i]==1:                                                 # if Y[row]==1 the X[row]-->pos\n",
    "            pos.append(X[i,:])\n",
    "        elif Y[i]==0:                                               # if Y[row]==0 the X[row]-->neg\n",
    "            neg.append(X[i,:])\n",
    "\n",
    "    pos = np.array(pos)                                             # pos to NumPy array\n",
    "    neg = np.array(neg)                                             # neg to NumPy array\n",
    "\n",
    "    plt.scatter(pos[:, 0], pos[:, 1], c=\"g\", marker=\"o\", label=\"OK\")        # plotting pos\n",
    "    plt.scatter(neg[:, 0], neg[:, 1], c=\"r\", marker=\"x\", label=\"Not OK\")    # plotting neg\n",
    "    plt.title(\"Training data\")\n",
    "    plt.xlabel(\"Test 1\")\n",
    "    plt.ylabel(\"Test 2\")\n",
    "    plt.legend()\n",
    "    plt.show()\n",
    "\n",
    "    return pos,neg                                                  \n",
    "\n",
    "pos, neg = plotData(X,Y)                                       "
   ]
  },
  {
   "cell_type": "markdown",
   "metadata": {},
   "source": [
    "We can see that our data cannot be linearly separated.\n",
    "\n",
    "Since our data fall within the interval $[-1, 1]$ for both variables with a fairly good distribution, the data set does not require further normalization.\n",
    "\n",
    "### 3. Fitting\n",
    "\n",
    "In terms of model fittness for the samples, we can distinguish 3 different cases.\n",
    "\n",
    "- Underfit (High Bias) is when the model is too simple and therefore causes a large error on both the training data and the test data.\n",
    "\n",
    "- It is a good fit when we get low error on both the training data and the test data. This means that the learning process has succeeded in learning the relevant information, which allows the new patterns to be classified well enough.\n",
    "\n",
    "- We speak of overfitting (High Variance) if the model has learned the training patterns specifically during the training. This results in a very low error rate during learning, but a high error rate when classifying samples not included in the training data set. \n",
    "\n",
    "<img src=\"Pics/L04_Fittings.png\" width=\"800\">\n",
    "\n",
    "The Underfit and Overfit phenomena during a typical learning run. The goal would be to stop learning at the point where the validation error is the smallest.\n",
    "\n",
    "<img src=\"Pics/L04_BiasVariance.png\" width=\"400\">\n",
    "\n",
    "In practice, we divide our available data into 3 groups (if we have a large enough sample size).\n",
    "- Training set (~70%): data used during training to set the weights of the moddell\n",
    "- Validation set (~15%): Stop learning at the appropriate epoch, hyperparameter optimization\n",
    "- Test set (~15%): Test on independent data, define metrics\n",
    "\n",
    "In this example, we are working with a small data set, so we will not split the data in this way. The theoretical insight only will help our understanding.\n",
    "\n",
    "### Methods to deal with Underfit and Overfit cases:\n",
    "\n",
    "In the case of underfit, our model is too simple. Appropriate compensation could be:\n",
    "- Increasing the number of variables (features)\n",
    "- Choosing a more complex model\n",
    "\n",
    "In case of overfit, our model learns too specifically on the training data. Appropriate compensation could be:\n",
    "- Less input variables\n",
    "- Simpler model\n",
    "- Introduce a penalty (regularization)\n",
    "\n",
    "In the case of regularisation, the guiding principle is: Starting from a complex model (e.g.: multiple variables), the algorithm has a number of possibilities, thus the underfit phenomenon is most likely handled. And by extending the cost function, we penalize if the model uses too many variables. In this way, we create the optimal condition for the simplest model to solve the problem.\n",
    "\n",
    "### 4. Extending input\n",
    "\n",
    "In our Microchip test example, the input variables are the two test results. To solve the desired problem, we need more variables. One possible way to do this is to increase the input variables by the powers of our original variables. \n",
    "\n",
    "$x_1,\\ x_2 \\Rightarrow\\ 1,\\ x_1,\\ x_2,\\ x_1^2,\\ x_1x_2,\\ x_2^2,\\ x_1^3,\\ x_1^2x_2,\\ x_1x_2^2,\\ x_2^3$\n",
    "\n",
    "By expanding our variables up to the 3rd power including the BIAS term, we can count 10 variables instead of the initial 2.\n",
    "\n",
    "Let's create the mapFeature() function that performs the above mapping. "
   ]
  },
  {
   "cell_type": "code",
   "execution_count": 17,
   "metadata": {},
   "outputs": [
    {
     "name": "stdout",
     "output_type": "stream",
     "text": [
      "(118, 10)\n"
     ]
    }
   ],
   "source": [
    "def mapFeature(X1,X2,deg=3):                            \n",
    "#######################################################\n",
    "    m = X1.size                                         # make the combination --> (X1, X2, X1^2, X1X2, X2^2,..., X2^3)\n",
    "    out = np.ones((m,1))                                # to a deg-th power (deg is 3 by default)\n",
    "\n",
    "    for i in range(1,deg+1):\n",
    "        for j in range(i+1):\n",
    "            terms = (X1**(i-j)*X2**j).reshape(m,1)     # creation of the combintions\n",
    "            out = np.column_stack((out,terms))         # putting it to the output matrix\n",
    "#######################################################            \n",
    "    return out\n",
    "\n",
    "deg = 3\n",
    "X=mapFeature(X[:,0], X[:,1], deg)                           # using the function\n",
    "print(X.shape)"
   ]
  },
  {
   "cell_type": "markdown",
   "metadata": {},
   "source": [
    "Once the input variables have been expanded, we can move on to the construction of the cost function.\n",
    "\n",
    "### Cost function and the gradient descent\n",
    "\n",
    "Our activation function will be the sigmoid function, as we have been used to in previous exercises.\n",
    "\n",
    "The cost function will be augmented with a penalty term according to the following formula:\n",
    "\n",
    "$ C(w)=\\frac{1}{2m}\\sum_{i=1}^m(h_w(x^i)-y^i)^2+\\lambda\\sum_{\\color{red}{j=1}}^nw_{\\color{red}{j}}^2 $\n",
    "\n",
    "where\n",
    "$ \\lambda $ penalty rate<br>\n",
    "$ i $ index of samples starting from 1. $i = 1...n$<br>\n",
    "$ j $ index of input variables starting from 0. $\\color{red}{ j = 0...m}$\n",
    "\n",
    "What should be noted is that the BIAS is not penalized, i.e. the weight $x_{\\color{red}{0}} = 1 $ associated with $ \\color{red}{w_0}$ BIAS should not be taken into account when calculating the penalty. \n",
    "\n",
    "Choosing the value of $ \\lambda$ too high may lead to the case of underfit.  \n",
    "\n",
    "Let us consider how the cost function with the regularization term extended will evolve in the multivariate case and how it will fit into the gradient method.\n",
    "\n",
    "$ C(w)=-\\frac{1}{m}\\sum_{i=1}^{m}y^i\\cdot log(h_w(x^i))+(1-y^i)\\cdot log(1-h_w(x^i))+\\frac{\\lambda}{2m}\\sum_{j=1}^nw_j^2 $\n",
    "\n",
    "For ease of derivation, the regularizing term constant $ \\lambda$ is replaced by $ \\frac{ \\lambda}{2m}$.\n",
    "\n",
    "Basic formula for the weight update of the Gradient Descent method:\n",
    "\n",
    "$ w_j = w_j - \\mu \\color{blue}{\\frac{\\partial}{\\partial w_j}C(w)}$\n",
    "\n",
    "When calculating the derivative of the cost function, the BIAS case must be treated separately. Let us examine it for $w_0$ and $w_1$.\n",
    "\n",
    "$ \\color{blue}{\\frac{\\partial}{\\partial w_0}C(w)}=\\frac{1}{m}\\sum_{i=1}^{m}(h_w(x^i)-y^i)\\cdot x_0^i+{\\color{red} 0}$\n",
    "\n",
    "$ \\color{blue}{\\frac{\\partial}{\\partial w_j}C(w)}=\\frac{1}{m}\\sum_{i=1}^{m}(h_w(x^i)-y^i)\\cdot x_j^i+\\frac{\\lambda}{m}w_j $\n",
    "\n",
    "Taking advantage of the similarities, consider how the cost function and the gradient could be calculated in a function using matrix operations.\n",
    "\n",
    "Now lets implement the costFunctionReg() function."
   ]
  },
  {
   "cell_type": "code",
   "execution_count": 18,
   "metadata": {},
   "outputs": [
    {
     "name": "stdout",
     "output_type": "stream",
     "text": [
      "Expected cost at initial weight (zeros): 0.693\n",
      "Calculated cost at initial weight (zeros): 0.6931\n"
     ]
    }
   ],
   "source": [
    "def sigmoid(z):\n",
    "    return 1 / (1 + np.exp(-z))\n",
    "\n",
    "def costFunctionReg(w,X,Y,Lambda=1):\n",
    "#######################################################    \n",
    "    m = len(Y)\n",
    "    \n",
    "    h = sigmoid(X@w)                             # activation\n",
    "    w1 = np.vstack((np.array([0]),w[1:,:]))      # we make zeros for the weights coresponding to the BIAS in a separate vector\n",
    "    p = Lambda*(w1.transpose() @ w1)/(2*m)       # penalty\n",
    "\n",
    "    C = (((-Y).transpose() @ np.log(h)) - ((1-Y).transpose() @ np.log(1-h)))/m + p    # cost function\n",
    "\n",
    "    grad = (X.transpose() @ (h -Y) + Lambda*w1)/m                                     # gradient\n",
    "#######################################################\n",
    "    return C,grad\n",
    "\n",
    "init_w = np.zeros((X.shape[1],1))                   # initial weights (0s)\n",
    "C, grad =costFunctionReg(init_w,X,Y)                # cost function / gradient\n",
    "print('Expected cost at initial weight (zeros): 0.693')\n",
    "print('Calculated cost at initial weight (zeros): %.4f' % C)"
   ]
  },
  {
   "cell_type": "markdown",
   "metadata": {},
   "source": [
    "After the successful implementation of the cost function and the calculation of the gradients, the weights can be modified.\n",
    "\n",
    "Gradient Descent algorithm weight modification basic formula:\n",
    "\n",
    "$w_j:=w_j-\\mu\\frac{\\partial}{\\partial w_j}C(w)$ \n",
    "\n",
    "Implement the gradientDescent() function. Use costFunctionReg() and save the cost of each epoch within the function."
   ]
  },
  {
   "cell_type": "code",
   "execution_count": 19,
   "metadata": {},
   "outputs": [
    {
     "name": "stdout",
     "output_type": "stream",
     "text": [
      "\n",
      "Regularized weight:\n",
      " [[ 3.33899928]\n",
      " [ 2.14356838]\n",
      " [ 3.6296769 ]\n",
      " [-7.78432855]\n",
      " [-3.77069998]\n",
      " [-6.59156856]\n",
      " [-0.56635355]\n",
      " [-1.44122833]\n",
      " [-1.02476626]\n",
      " [-2.52639361]]\n"
     ]
    },
    {
     "data": {
      "image/png": "[encoded data removed]",
      "text/plain": [
       "<Figure size 432x288 with 1 Axes>"
      ]
     },
     "metadata": {
      "needs_background": "light"
     },
     "output_type": "display_data"
    }
   ],
   "source": [
    "def gradientDescent(X,Y,w,learning_rate,num_iters,Lambda):                         \n",
    "####################################################    \n",
    "    C_history = []\n",
    "\n",
    "    for i in range(num_iters):                                              # run until max epochs\n",
    "        C, grad = costFunctionReg(w,X,Y,Lambda)\n",
    "        w = w - (learning_rate*grad)                                        # simultaneous weight update\n",
    "        C_history = np.append(C_history,C)                                  # saving cost to C_history\n",
    "\n",
    "    C_history = np.array(C_history)\n",
    "####################################################    \n",
    "    return w, C_history\n",
    "\n",
    "learning_rate = 1\n",
    "epoch = 800\n",
    "Lambda = 0.02\n",
    "\n",
    "w, C_history = gradientDescent(X,Y,init_w,learning_rate,epoch,Lambda)      \n",
    "print('\\nRegularized weight:\\n',w)\n",
    "\n",
    "plt.plot(C_history,label = \"C_history\")    \n",
    "plt.title(\"Cost function trough the iterations\")\n",
    "plt.xlabel(\"Iteration\")\n",
    "plt.ylabel(\"Cost function value\")\n",
    "plt.legend()\n",
    "plt.show()"
   ]
  },
  {
   "cell_type": "markdown",
   "metadata": {},
   "source": [
    "### 6. Visualization of the decision boundary"
   ]
  },
  {
   "cell_type": "code",
   "execution_count": 20,
   "metadata": {},
   "outputs": [
    {
     "data": {
      "image/png": "[encoded data removed]",
      "text/plain": [
       "<Figure size 432x288 with 1 Axes>"
      ]
     },
     "metadata": {
      "needs_background": "light"
     },
     "output_type": "display_data"
    }
   ],
   "source": [
    "plt.scatter(pos[:, 0], pos[:, 1], c=\"g\", marker=\"o\", label=\"OK\")            # plotting pos\n",
    "plt.scatter(neg[:, 0], neg[:, 1], c=\"r\", marker=\"x\", label=\"Not OK\")        # plotting neg\n",
    "\n",
    "u_vals = np.linspace(-1,1.,50)                                              # parameter1 for the boundary plotting\n",
    "v_vals = np.linspace(-1,1.,50)                                              # parameter2\n",
    "z=np.zeros((len(u_vals),len(v_vals)))                                       # initialization of the result matrix\n",
    "\n",
    "for i in range(len(u_vals)):                                                # calculation for each point\n",
    "    for j in range(len(v_vals)):\n",
    "        z[i,j] = mapFeature(u_vals[i],v_vals[j],deg) @ w                        \n",
    "\n",
    "plt.contour(u_vals,v_vals,z.transpose(),0)                                  # plotting the decision boundary\n",
    "plt.title(\"Decision boundary and the training data\")\n",
    "plt.xlabel(\"Exam 1 score\")\n",
    "plt.ylabel(\"Exam 2 score\")\n",
    "plt.legend(loc=0)\n",
    "plt.show()"
   ]
  },
  {
   "cell_type": "markdown",
   "metadata": {},
   "source": [
    "### 7. Accuracy"
   ]
  },
  {
   "cell_type": "code",
   "execution_count": 21,
   "metadata": {},
   "outputs": [
    {
     "name": "stdout",
     "output_type": "stream",
     "text": [
      "\n",
      "Accuracy of the classification: 83.05084745762711 %\n"
     ]
    }
   ],
   "source": [
    "def classificationPrediction(w,X):\n",
    "    pred = (sigmoid(X @ w) > 0.5)\n",
    "    return ((np.sum(pred==Y)/m)*100)\n",
    "\n",
    "acc=classificationPrediction(w,X)\n",
    "print('\\nAccuracy of the classification:',acc, '%')"
   ]
  },
  {
   "cell_type": "markdown",
   "metadata": {},
   "source": [
    "But why didn't we learned about nerual networks yet? We will discuss it in the next lesson."
   ]
  },
  {
   "cell_type": "markdown",
   "metadata": {},
   "source": [
    "<div style=\"text-align: right\"> These exercises are using elements from Andrew NG's Machine Learning course.</div>"
   ]
  }
 ],
 "metadata": {
  "kernelspec": {
   "display_name": "Python 3 (ipykernel)",
   "language": "python",
   "name": "python3"
  },
  "language_info": {
   "codemirror_mode": {
    "name": "ipython",
    "version": 3
   },
   "file_extension": ".py",
   "mimetype": "text/x-python",
   "name": "python",
   "nbconvert_exporter": "python",
   "pygments_lexer": "ipython3",
   "version": "3.9.13"
  }
 },
 "nbformat": 4,
 "nbformat_minor": 2
}

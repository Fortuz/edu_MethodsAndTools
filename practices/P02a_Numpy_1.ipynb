{
 "cells": [
  {
   "cell_type": "markdown",
   "metadata": {
    "id": "cLUOQVCcL439"
   },
   "source": [
    "<img src=\"assets/logo.png\">\n",
    "\n",
    "Made by **Viktor Varga**, **Gulyás János Adrián**, **Ellák Somfai**, **Balázs Nagy**\n",
    "\n",
    "[<img src=\"assets/open_button.png\">](https://colab.research.google.com/github/Fortuz/edu_MethodsAndTools/blob/main/practices/P02a_Numpy_1.ipynb)"
   ]
  },
  {
   "cell_type": "markdown",
   "metadata": {
    "id": "bg-N-ivOMFrq"
   },
   "source": [
    "# Python tutorial - Numpy, chapter 1"
   ]
  },
  {
   "cell_type": "markdown",
   "metadata": {
    "id": "wDQ65t9H_5Ra"
   },
   "source": [
    "Numpy is one of Python's most important packages: it allows for quick numerical computations. The default interpreter/compiler of Python is CPython. This implementation, compared to other languages, results in largely slower programs. The reasons for this lie in Python a being dynamically typed language, its automatic memory allocation, and CPython working almost entirely as an interpreter, which leaves very few options for optimizing code.\n",
    "\n",
    "The speed difference truly shows when many Python statements need to be run, for example, while doing a matrix multiplication by using loops and multiplying the scalars together. This is exactly why Numpy contains functions that are capable of performing the same operation vectorized, many times over, without needing to use a Python loop. Numpy functions call code that was written in more efficient languages (such as C, Fortran), so much higher efficiency is possible by using Numpy than by using a native Python implementation.\n"
   ]
  },
  {
   "cell_type": "markdown",
   "metadata": {
    "id": "6-ILeSuK7XCA"
   },
   "source": [
    "## Numpy basics - the `ndarray` type\n",
    "\n",
    " The most important type in the package, the `ndarray` is an n-dimensional array implementation. Let's create a 2 dimensional, 2x3 size array containing integers. The dimensions of an array are not to be confused with the mathematical dimensions of a vector."
   ]
  },
  {
   "cell_type": "code",
   "execution_count": 1,
   "metadata": {
    "colab": {
     "base_uri": "https://localhost:8080/"
    },
    "id": "9HQZ2WSV-R9j",
    "outputId": "bb8753d2-eebc-42f7-8ad5-1ce5f2f89b19"
   },
   "outputs": [
    {
     "ename": "ModuleNotFoundError",
     "evalue": "No module named 'numpy'",
     "output_type": "error",
     "traceback": [
      "\u001b[1;31m---------------------------------------------------------------------------\u001b[0m",
      "\u001b[1;31mModuleNotFoundError\u001b[0m                       Traceback (most recent call last)",
      "Cell \u001b[1;32mIn[1], line 1\u001b[0m\n\u001b[1;32m----> 1\u001b[0m \u001b[38;5;28;01mimport\u001b[39;00m \u001b[38;5;21;01mnumpy\u001b[39;00m \u001b[38;5;28;01mas\u001b[39;00m \u001b[38;5;21;01mnp\u001b[39;00m  \u001b[38;5;66;03m# import numpy package using the 'np' alias\u001b[39;00m\n\u001b[0;32m      3\u001b[0m a \u001b[38;5;241m=\u001b[39m np\u001b[38;5;241m.\u001b[39marray([[\u001b[38;5;241m2\u001b[39m,\u001b[38;5;241m3\u001b[39m,\u001b[38;5;241m4\u001b[39m],[\u001b[38;5;241m1\u001b[39m,\u001b[38;5;241m5\u001b[39m,\u001b[38;5;241m8\u001b[39m]], dtype\u001b[38;5;241m=\u001b[39mnp\u001b[38;5;241m.\u001b[39mint32)   \u001b[38;5;66;03m# create array\u001b[39;00m\n\u001b[0;32m      4\u001b[0m b \u001b[38;5;241m=\u001b[39m np\u001b[38;5;241m.\u001b[39marray([[\u001b[38;5;241m3\u001b[39m,\u001b[38;5;241m2\u001b[39m,\u001b[38;5;241m9\u001b[39m],[\u001b[38;5;241m2\u001b[39m,\u001b[38;5;241m6\u001b[39m,\u001b[38;5;241m5\u001b[39m]], dtype\u001b[38;5;241m=\u001b[39mnp\u001b[38;5;241m.\u001b[39mint32)   \u001b[38;5;66;03m# create array\u001b[39;00m\n",
      "\u001b[1;31mModuleNotFoundError\u001b[0m: No module named 'numpy'"
     ]
    }
   ],
   "source": [
    "import numpy as np  # import numpy package using the 'np' alias\n",
    "\n",
    "a = np.array([[2,3,4],[1,5,8]], dtype=np.int32)   # create array\n",
    "b = np.array([[3,2,9],[2,6,5]], dtype=np.int32)   # create array\n",
    "\n",
    "print(\"The 'a' array:\\n\", a)\n",
    "print(\"The 'b' array:\\n\", b)\n",
    "print(\"Sum of the two arrays, elementwise:\\n\", a + b)\n",
    "print(\"Multiplying all elements of 'a' by 2:\\n\", 2*a)\n",
    "print(\"Adding up all elements of array 'a'. The sum is:\", np.sum(a))"
   ]
  },
  {
   "cell_type": "markdown",
   "metadata": {
    "id": "EfLv579qKgi6"
   },
   "source": [
    "As you can see, it's possible to perform the same operation on the entire array (or a slice of it) without needing to write any loops in our code.\n",
    "\n",
    "The `ndarray` array is represented of course as a sequence of bytes in the memory, so it is stored as a 1-dimensional vector. Once we created such an array, the number of elements cannot change, so if we wish to raise the size, we must create a new array. However, the shape of the array can change: an array with 6 elements can take up a 2x3, 3x2, 6, 6x1, 6x1x1, 1x3x1x1x2x1, etc. shape as well. In this case, the place of the elements in memory remains unchanged. The possibility of seeing the array in 6 dimensions and index it as such is provided by special iterators of the `ndarray` type. For example, a 1x3x1x1x2x1 shaped array can be indexed as: `my_array[0,2,0,0,1,0]`. The array's implementation can resolve this indexing by knowing how many steps must be taken in the memory to take a step along each axis (`ndarray.strides`).\n",
    "\n",
    "Let's look at the `ndarray` type's attributes:"
   ]
  },
  {
   "cell_type": "code",
   "execution_count": null,
   "metadata": {
    "colab": {
     "base_uri": "https://localhost:8080/"
    },
    "id": "9euVc4rSOay2",
    "outputId": "4df868cb-35cf-43c9-b896-fbdf12ad7108"
   },
   "outputs": [],
   "source": [
    "a = np.array([[2,3,4],[1,5,8]], dtype=np.int32)\n",
    "\n",
    "print(\"The shape of the array:\", a.shape)   # a tuple\n",
    "print(\"The data type of the array:\", a.dtype)   # the type of the elements\n",
    "print(\"The number of axes (dimensions of the array):\", a.ndim)   # a.k.a length of the shape tuple\n",
    "print(\"The size of the array (total number of elements):\", a.size)   # the product of the shape\n",
    "print(\"Length along the first axis:\", a.shape[0])\n",
    "print(\"Length along the first axis:\", len(a))   # len() built-in python function\n",
    "\n",
    "print(\"The strides of the array\", a.strides)  # tells us how many bytes do we need to move in\n",
    "                                              #   the memory to increase index along each axis\n"
   ]
  },
  {
   "cell_type": "markdown",
   "metadata": {
    "id": "DPWxWm2bp4e3"
   },
   "source": [
    "## Changing the shape of arrays\n",
    "\n",
    "As mentioned before, the shape of arrays can change freely, assuming that in the new shape the number of elements is unchanged. In this case, no copy of the original array gets made, instead, a new view is created over the old array. The type of this view is also `ndarray`, so it's seen as a simple array. It's important to understand that the view references the elements of the original array, so if the elements of the original array change, we will see these altered elements in the view as well. Also, if we change elements of the view, the original array changes too."
   ]
  },
  {
   "cell_type": "code",
   "execution_count": null,
   "metadata": {
    "colab": {
     "base_uri": "https://localhost:8080/"
    },
    "id": "vI47NeQhsMuV",
    "outputId": "aeb62646-5e97-45c0-f84c-a3db6bf9543e"
   },
   "outputs": [],
   "source": [
    "a = np.arange(6, dtype=np.int32)\n",
    "print(\"The 'a' array:\\n\", a)\n",
    "print(\"   ... its shape is\", a.shape)   # a tuple\n",
    "\n",
    "b = a.reshape((2, 3)).copy()   # reshape to 2D shape: (2, 3)\n",
    "print(\"\\nThe 'a' array reshaped to 2D shape (2, 3):\\n\", b)\n",
    "print(\"   ... its shape is\", b.shape)\n",
    "\n",
    "# We modify an item in the original array\n",
    "a[0] = 42\n",
    "print(\"\\nThe modified 'a' array:\\n\", a)\n",
    "print(\"The 2D 'b' view of the 'a' array is also modified:\\n\", b)\n",
    "\n",
    "# Now we modify an item in the view array\n",
    "b[1,1] = 99\n",
    "print(\"\\nThe content of the 'a' array after 2nd modification:\\n\", a)\n",
    "print(\"The 'b' view after 2nd modification:\", b)\n"
   ]
  },
  {
   "cell_type": "markdown",
   "metadata": {
    "id": "_KosMXDjxFuW"
   },
   "source": [
    "Since the number of elements in the array is fixed, while reshaping it we can set the length of an axis to -1, which calculates the correct length automatically."
   ]
  },
  {
   "cell_type": "code",
   "execution_count": null,
   "metadata": {
    "colab": {
     "base_uri": "https://localhost:8080/"
    },
    "id": "50WpLnLju_YW",
    "outputId": "09830cdc-a7d3-45ee-8abb-984a5d84b7ce"
   },
   "outputs": [],
   "source": [
    "a = np.arange(6, dtype=np.int32).reshape((3, 2))    # ndarray.reshape()\n",
    "print(\"The 'a' array:\\n\", a)\n",
    "print(\"   ... its shape is\", a.shape)\n",
    "\n",
    "b = a.reshape(-1)   # reshape to 1D\n",
    "print(\"\\nThe 'b' array:\\n\", b)\n",
    "print(\"   ... its shape is\", b.shape)\n",
    "\n",
    "c = b.reshape((1,-1,3,1))   # reshape to 4D: (1,2,3,1)\n",
    "print(\"\\nThe 'c' array:\\n\", c)\n",
    "print(\"   ... its shape is\", c.shape)\n",
    "\n",
    "d = np.reshape(a, (-1,))   # np.reshape() works similarly to ndarray.reshape()\n",
    "print(\"\\nThe 'd' array:\\n\", d)\n",
    "print(\"   ... its shape is\", d.shape)\n"
   ]
  },
  {
   "cell_type": "markdown",
   "metadata": {
    "id": "JQts0lkeTX8v"
   },
   "source": [
    "The order of the array's axes can be switched up as well (`np.swapaxes()`, `np.transpose()`, `ndarray.T`). These operations are the ones that should be used for transposing matrices as well."
   ]
  },
  {
   "cell_type": "markdown",
   "metadata": {
    "id": "hQ7ncWJOo0fJ"
   },
   "source": [
    "## Creating arrays\n",
    "\n",
    "The type of the elements inside the `ndarray` array must be given at its creation. Every element in the array will have the same type, with the exception of rarely used structured arrays and recarrays, but we won't be using those.\n",
    "\n",
    "Documentation:\n",
    "https://docs.scipy.org/doc/numpy/reference/routines.array-creation.html"
   ]
  },
  {
   "cell_type": "code",
   "execution_count": null,
   "metadata": {
    "colab": {
     "base_uri": "https://localhost:8080/",
     "height": 235
    },
    "id": "SkugYqiAqS7W",
    "outputId": "a879cf72-8717-4828-f3e7-d7df7680d6f1"
   },
   "outputs": [],
   "source": [
    "a = np.zeros((2,3), dtype=np.float32)\n",
    "print(\"New floating point array, filled with zeros:\\n\", a)\n",
    "\n",
    "b = np.ones((2,2), dtype=np.int32)\n",
    "print(\"New integer array, filled with ones:\\n\", b)\n",
    "\n",
    "c = np.empty((1,3), dtype=np.float32)  # NO INITIALIZATION of elements, values are undefined\n",
    "print(\"New EMPTY (uninitialized) array (elements may have any starting value):\\n\", c)\n",
    "\n",
    "d = np.array([[1.,.2,-2.8],[2.6,3.2,-.2]], dtype=np.float32)\n",
    "print(\"New floating point array, elements are given explicitly:\\n\", d)\n",
    "print(\"    ... it's shape is \", d.shape)"
   ]
  },
  {
   "cell_type": "markdown",
   "metadata": {
    "id": "HBfSxllF04T7"
   },
   "source": [
    "Main datatypes (`dtype`):\n",
    "* `np.bool_`: Boolean datatype (True or False). True is represented by a 1 and False is represented by a 0.\n",
    "* `np.int8, int16, int32, int64`: integer datatypes contained in 1, 2, 4, 8 bytes, I.e. int8's values are inside the [-128, 127] interval.\n",
    "* `np.float16, float32, float64`: real number datatypes contained in 2, 4, 8 bytes. Graphics cards today are optimized for using the float32 (single precision) datatype."
   ]
  },
  {
   "cell_type": "markdown",
   "metadata": {
    "id": "qibUsG8eUwwF"
   },
   "source": [
    "Creating arrays from equal step size sequences:"
   ]
  },
  {
   "cell_type": "code",
   "execution_count": null,
   "metadata": {
    "colab": {
     "base_uri": "https://localhost:8080/"
    },
    "id": "gdjriaIQvR8p",
    "outputId": "15decf63-a595-4b31-b106-5c5aebc9f461"
   },
   "outputs": [],
   "source": [
    "# ranges, interavals\n",
    "\n",
    "a = np.arange(5, dtype=np.int64)   # end value is given\n",
    "print(\"Array with elements from range(5): \", a)\n",
    "print(\"    ... shape of the array is:\", a.shape)\n",
    "\n",
    "b = np.arange(5, 10, dtype=np.float16)   # start & end value is given\n",
    "print(\"\\nArray with elements from range(5, 10): \", b)\n",
    "\n",
    "c = np.arange(10, -4, -2, dtype=np.float64)   # start, end & step value is given\n",
    "print(\"\\nArray with elements from range(10, 4, -2): \", c)\n",
    "\n",
    "b2 = np.arange(10, 5, dtype=np.float16)   # start & end value is given\n",
    "print(\"\\nArray with elements from (empty) range(10, 5): \", b2)\n",
    "print(\"    ... shape of the empty array is:\", b2.shape)\n",
    "\n",
    "d = np.linspace(10., 13., num=7, dtype=np.float64)\n",
    "print(\"\\nArray with equally spaced numbers from interval:\\n\", d)\n"
   ]
  },
  {
   "cell_type": "markdown",
   "metadata": {
    "id": "TDj9myUCycC3"
   },
   "source": [
    "Generating random numbers:"
   ]
  },
  {
   "cell_type": "code",
   "execution_count": null,
   "metadata": {
    "colab": {
     "base_uri": "https://localhost:8080/"
    },
    "id": "4yiju5tgxfUO",
    "outputId": "a757c187-0a43-41a1-d589-090b0698a483"
   },
   "outputs": [],
   "source": [
    "# random numbers\n",
    "r1 = np.random.rand(1, 4, 1)\n",
    "print(\"(1,4,1) shaped array with random elements from [0,1) interval (uniform):\\n \", r1)\n",
    "print(\"    ... shape of the array:\", r1.shape, \"; datatype of the array:\", r1.dtype)\n",
    "\n",
    "r2 = np.random.randn(2)\n",
    "print(\"\\n(2,) shaped array with random elements from standard normal (Gaussian) distribution:\\n \", r2)\n",
    "\n",
    "r3 = np.random.randint(5, size=(2,5), dtype=np.uint16)\n",
    "print(\"\\n(2,5) shaped array with random integer elements from [0,4] interval (uniform):\\n \", r3)\n"
   ]
  },
  {
   "cell_type": "code",
   "execution_count": null,
   "metadata": {
    "colab": {
     "base_uri": "https://localhost:8080/"
    },
    "id": "pGp-jyFpvW_u",
    "outputId": "c4834f9c-f0a4-4684-eff1-4d02c5a118c1"
   },
   "outputs": [],
   "source": [
    "# newer api:\n",
    "rng = np.random.default_rng(42)\n",
    "r1 = rng.random((1,4,1))\n",
    "print(r1)\n",
    "\n",
    "r2 = rng.normal(size=(2,))\n",
    "print(r2)\n",
    "\n",
    "r3 = rng.integers(5, size=(2,5))\n",
    "print(r3)"
   ]
  },
  {
   "cell_type": "markdown",
   "metadata": {
    "id": "YE9ArWa82SI2"
   },
   "source": [
    "## Conversion between datatypes\n",
    "\n",
    "Later we will need to be able to convert an array of a certain datatype into another datatype. This will create a new array.\n",
    "\n",
    "Here's a common use case: images and videos are often stored in uint8 format (a pixel's brightness in each color channel is represented by a value between 0 and 255), but in neural networks, we like to use real numbers, because gradient and hidden representations are not necessarily integers, so we convert them to the float32 format.\n",
    "\n",
    "During the conversion process, we must be aware of possible data loss that may result from loss of precision, or under/overflow."
   ]
  },
  {
   "cell_type": "code",
   "execution_count": null,
   "metadata": {
    "colab": {
     "base_uri": "https://localhost:8080/",
     "height": 181
    },
    "id": "DVQL4WCG3asd",
    "outputId": "6369438c-2c89-4e31-9fe4-e2b7fbe0c091"
   },
   "outputs": [],
   "source": [
    "a = np.array([[2,3,125], [255, 0, 45]], dtype=np.uint8)\n",
    "print(\"Data type of the 'a' array:\", a.dtype)\n",
    "print(\"The 'a' array:\\n\", a)\n",
    "\n",
    "b = a.astype(np.float32)  # type conversion\n",
    "print(\"\\nData type of the 'b' array:\", b.dtype)\n",
    "print(\"The 'b' array:\\n\", b)\n"
   ]
  },
  {
   "cell_type": "markdown",
   "metadata": {
    "id": "7GMmQ_iW0YvG"
   },
   "source": [
    "## Basic indexing, multiple views\n",
    "\n",
    "Multiple elements of a Numpy array can be indexed at once to perform the same operation on all of them without using any loops.\n",
    "\n",
    "We differentiate two different methods of indexing: **basic** and **advanced indexing**.\n",
    "\n",
    "**Basic indexing** manages elements of the array like using a range on a Python list, but along multiple dimensions at once. For example, if array `a` is a one-dimensional array with a minimum of 10 elements, `a[5:10:2]` references its elements with the index 5,7,9. `a[5:10:2]` itself is of the ndarray type and includes the aforementioned three elements. In **basic indexing**, which is very similar, the created array is only a _view_ of the original array, so if the original array's elements are changed, the view's elements will also change accordingly.\n",
    "\n",
    "We will discuss **advanced indexing** in the next notebook."
   ]
  },
  {
   "cell_type": "markdown",
   "metadata": {
    "id": "oVFPR9gvS6qQ"
   },
   "source": [
    "Accessing and printing an element:"
   ]
  },
  {
   "cell_type": "code",
   "execution_count": null,
   "metadata": {
    "colab": {
     "base_uri": "https://localhost:8080/"
    },
    "id": "_gLsULZd0qb-",
    "outputId": "be6d91fc-3e50-4c4b-d3e5-78f704f44338"
   },
   "outputs": [],
   "source": [
    "a = np.arange(6, dtype=np.int32).reshape((3, 2))\n",
    "print(\"The 'a' array:\\n\", a)\n",
    "print(\"   ... its shape is\", a.shape)\n",
    "\n",
    "print(\"\\nAccessing a single element:\", a[0,1], a[0][1])\n",
    "\n",
    "a[0,1] = 42  # writing a single element in the array\n",
    "print(\"\\nThe 'a' array:\\n\", a)"
   ]
  },
  {
   "cell_type": "markdown",
   "metadata": {
    "id": "fQxFc6fTTTmd"
   },
   "source": [
    "Negative index (indexing from the back):"
   ]
  },
  {
   "cell_type": "code",
   "execution_count": null,
   "metadata": {
    "colab": {
     "base_uri": "https://localhost:8080/"
    },
    "id": "YTJcxippTVYW",
    "outputId": "62c95458-d139-4e5e-f648-c31f71c0f5e5"
   },
   "outputs": [],
   "source": [
    "# indexing with negative numbers: -1: last, -2: last but one\n",
    "\n",
    "print(\"\\nAccessing a single element:\", a[0,-1])\n",
    "print(\"Accessing a single element:\", a[-2,-1])"
   ]
  },
  {
   "cell_type": "markdown",
   "metadata": {
    "id": "p3SNQuTTVjNB"
   },
   "source": [
    "Range indexing (the syntax similiar to Python lists):"
   ]
  },
  {
   "cell_type": "code",
   "execution_count": null,
   "metadata": {
    "colab": {
     "base_uri": "https://localhost:8080/"
    },
    "id": "AtRLprCdV7j3",
    "outputId": "5882c5ae-9ee3-4d48-b07b-02282c9a3dba"
   },
   "outputs": [],
   "source": [
    "a = np.arange(6, dtype=np.int32)\n",
    "print(\"The 'a' array:\\n\", a)\n",
    "print(\"   ... its shape is\", a.shape)\n",
    "\n",
    "print(\"\\nA slice of array 'a':\", a[2:4])  # syntax -> start:stop:step_size\n",
    "\n",
    "print(\"Another slice of array 'a':\", a[2:])   # from #2 till end\n",
    "\n",
    "print(\"A third slice of array 'a':\", a[:4])   # from start till #4 (exclusive)\n",
    "\n",
    "print(\"\\nEvery second item in array 'a':\", a[::2])\n",
    "\n",
    "print(\"Reversed 'a':\", a[::-1])\n",
    "\n",
    "print(\"Custom slice 'a':\", a[4:0:-2])"
   ]
  },
  {
   "cell_type": "markdown",
   "metadata": {
    "id": "vwpVsXtIXiwB"
   },
   "source": [
    "Range indexing on multiple axes at the same time:"
   ]
  },
  {
   "cell_type": "code",
   "execution_count": null,
   "metadata": {
    "colab": {
     "base_uri": "https://localhost:8080/"
    },
    "id": "nouXUwPMXssT",
    "outputId": "765f4ee7-6ad4-408f-9a16-f7bc4bbb65d3"
   },
   "outputs": [],
   "source": [
    "a = np.arange(30, dtype=np.int32).reshape((5,6))\n",
    "print(\"The 2D 'a' array:\\n\", a)\n",
    "print(\"   ... its shape is\", a.shape)\n",
    "\n",
    "print(\"\\nSingle index along axis#0, entire range along#1: \", a[3,0:6])  # 4th row\n",
    "\n",
    "print(\"... same as previous, last axis indexing omitted: \", a[3])  # 4th row\n",
    "\n",
    "print(\"Single index along axis#0, custom range along#1: \", a[3,6:0:-2])\n",
    "\n",
    "print(\"\\nEntire range along axis#0, single index along#1: \", a[:,3])  # 4th column\n",
    "\n",
    "print(\"... same as previous, all axes omitted except last one: \", a[..., 3])  # 4th row\n",
    "\n",
    "print(\"\\nCustom range along both axes:\\n\", a[::3,6:0:-2])"
   ]
  },
  {
   "cell_type": "markdown",
   "metadata": {
    "id": "F8-mmnjdbpCg"
   },
   "source": [
    "Empty range. It's possible for an array's size to be 0, in this case, its shape along at least one axis is 0."
   ]
  },
  {
   "cell_type": "code",
   "execution_count": null,
   "metadata": {
    "colab": {
     "base_uri": "https://localhost:8080/"
    },
    "id": "v_ooIU03bqtH",
    "outputId": "e662d935-0f99-4a7a-990e-8d915dd18ac2"
   },
   "outputs": [],
   "source": [
    "b = a[8:,:]\n",
    "print(\"\\nAn empty slice of 'a': \", b)  # no error if RANGE is out of bounds\n",
    "print(\"   ... its shape is\", b.shape)\n",
    "\n",
    "# b = a[8,:]   # would result in an error, because axis#0 SINGLE index is out of bounds"
   ]
  },
  {
   "cell_type": "markdown",
   "metadata": {
    "id": "wx_6J9YeZ2Qg"
   },
   "source": [
    "Printing slices of arrays:"
   ]
  },
  {
   "cell_type": "code",
   "execution_count": null,
   "metadata": {
    "colab": {
     "base_uri": "https://localhost:8080/"
    },
    "id": "cf7n9JT9aCqa",
    "outputId": "c3d79016-b6e1-4f27-e73f-c8540d2de0a9"
   },
   "outputs": [],
   "source": [
    "a = np.arange(12, dtype=np.int32).reshape((4,3))\n",
    "print(\"The 2D 'a' array:\\n\", a)\n",
    "print(\"   ... its shape is\", a.shape)\n",
    "\n",
    "a[::2,1:3] = 42\n",
    "print(\"\\nThe modified 2D 'a' array:\\n\", a)\n",
    "\n",
    "b = a[:,:2]   # 'b' is a view of array 'a', if we write 'b', we also write 'a'\n",
    "print(\"\\nThe 'b' array (a view of 'a'):\\n\", b)\n",
    "print(\"   ... its shape is\", b.shape)\n",
    "\n",
    "b[:] = 99   # with [:] (or [:,:], ...) we refer to all elements in 'b'\n",
    "print(\"\\nThe 'b' array (a view of 'a'):\\n\", b)\n",
    "print(\"\\nThe 'a' array:\\n\", a)\n"
   ]
  },
  {
   "cell_type": "markdown",
   "metadata": {
    "id": "E_-qWpQyzl8L"
   },
   "source": [
    "## Simple arithmetic operations, treating arrays of different shapes (broadcasting)\n",
    "\n",
    "Arithmetics performed element-to-element (elementwise) on same-size arrays. Adding the elements of two arrays is done as shown below. No need for python loops."
   ]
  },
  {
   "cell_type": "code",
   "execution_count": null,
   "metadata": {
    "colab": {
     "base_uri": "https://localhost:8080/"
    },
    "id": "mPnECP1WzykD",
    "outputId": "a0b1e9ad-5c8b-41e7-ca9c-bcf58574c786"
   },
   "outputs": [],
   "source": [
    "a = np.arange(6, dtype=np.int32).reshape((2,3))\n",
    "print(\"The 2D 'a' array:\\n\", a)\n",
    "print(\"   ... its shape is\", a.shape)\n",
    "\n",
    "b = np.ones_like(a, dtype=np.int32)\n",
    "print(\"\\nThe 2D 'b' array:\\n\", b)\n",
    "print(\"   ... its shape is\", b.shape)\n",
    "\n",
    "# now we add the two arrays\n",
    "\n",
    "c = a+b\n",
    "print(\"\\nThe result array:\\n\", c)"
   ]
  },
  {
   "cell_type": "markdown",
   "metadata": {
    "id": "BlUg7zDf07aX"
   },
   "source": [
    "So far all is clear, we can add same-size arrays, multiply them, etc. elementwise. However, Numpy makes it possible, under certain conditions, to perform elementwise operations on arrays of different sizes. To do this, Numpy automatically synchronizes the sizes of the arrays, repeating elements along certain axes if needed. This is **broadcasting**.\n",
    "\n",
    "What exactly happens if we try to raise every element of an array by a constant?\n"
   ]
  },
  {
   "cell_type": "code",
   "execution_count": null,
   "metadata": {
    "colab": {
     "base_uri": "https://localhost:8080/",
     "height": 162
    },
    "id": "LKmFnQHo13cD",
    "outputId": "2f72d319-a975-472e-a339-d8afee5e41fc"
   },
   "outputs": [],
   "source": [
    "a = np.arange(6, dtype=np.int32).reshape((2,3))\n",
    "print(\"The 2D 'a' array:\\n\", a)\n",
    "print(\"   ... its shape is\", a.shape)\n",
    "\n",
    "a = a+1\n",
    "print(\"\\nThe modified 'a' array:\\n\", a)\n"
   ]
  },
  {
   "cell_type": "markdown",
   "metadata": {
    "id": "0O0rZonN8RSF"
   },
   "source": [
    "Numpy first packs the Python int type '1' literal into a (1,) shaped Numpy array with one element which is the 1. After which, as seen on the image, raises its size to a (2,3) shape by repeating the elements along both axes, so that it exactly matches the 'a' array's shape.\n",
    "\n",
    "![alt text](https://drive.google.com/uc?export=download&id=1O_R6m1Jmt2ffset2D7GtV73YRgW9yYvc)"
   ]
  },
  {
   "cell_type": "markdown",
   "metadata": {
    "id": "e9RYCbTk97Bc"
   },
   "source": [
    "In the case of broadcasting, the **extended size array is really just a view over the original array**, no additional memory space is allocated. There is no actual repeating of elements, instead, the same memory space is accessed repeatedly.\n",
    "\n",
    "Let's look at other cases of broadcasting. We can think of a 2D array like a matrix. Let's add a vector to each row of this matrix!"
   ]
  },
  {
   "cell_type": "code",
   "execution_count": null,
   "metadata": {
    "colab": {
     "base_uri": "https://localhost:8080/",
     "height": 235
    },
    "id": "ZGTqcoUN-3oL",
    "outputId": "d9e087bd-7de0-417b-fa27-82bf340b74c8"
   },
   "outputs": [],
   "source": [
    "a = np.arange(6, dtype=np.int32).reshape((2,3))\n",
    "print(\"The 2D 'a' array:\\n\", a)\n",
    "print(\"   ... its shape is\", a.shape)\n",
    "\n",
    "vec = np.arange(10,40,10, dtype=np.int32)\n",
    "print(\"\\nThe 1D 'vec' array:\\n\", vec)\n",
    "print(\"   ... its shape is\", vec.shape)\n",
    "\n",
    "a = a+vec\n",
    "print(\"\\nThe modified 'a' array:\\n\", a)"
   ]
  },
  {
   "cell_type": "markdown",
   "metadata": {
    "id": "2BHUQN1K_DIE"
   },
   "source": [
    "In this case, the vector with the shape of (3,) gets a new axis: so (1,3) will be its new shape, then by repeating elements along the axis with index #0, it will have a shape of (2,3).\n",
    "\n",
    "![alt text](https://drive.google.com/uc?export=download&id=1hCbOpGPvU84B6Jg5fpBT866w49VYcamu)\n",
    "\n",
    "Now let's try adding a column vector to the matrix!"
   ]
  },
  {
   "cell_type": "code",
   "execution_count": null,
   "metadata": {
    "colab": {
     "base_uri": "https://localhost:8080/",
     "height": 162
    },
    "id": "R-D3zMG8APAU",
    "outputId": "efc2d4c8-14f8-45da-9f63-99e419fd2abe"
   },
   "outputs": [],
   "source": [
    "a = np.arange(6, dtype=np.int32).reshape((2,3))\n",
    "print(\"The 2D 'a' array:\\n\", a)\n",
    "print(\"   ... its shape is\", a.shape)\n",
    "\n",
    "vec = np.arange(10,30,10, dtype=np.int32)\n",
    "print(\"\\nThe 1D 'vec' array:\\n\", vec)\n",
    "print(\"   ... its shape is\", vec.shape)\n",
    "\n",
    "# a = a+vec    # ValueError: operands could not be broadcast together with shapes (2,3) (2,)"
   ]
  },
  {
   "cell_type": "markdown",
   "metadata": {
    "id": "hG6JVQVVATRD"
   },
   "source": [
    "This would cause Numpy to throw an error, as it can't complete the operation. Why?\n",
    "\n",
    "During broadcasting, Numpy tries comparing the length of each axis of the arrays moving backwards from the last dimension. In the last example, these were equal, however, this time the matrix's last axis with its length of three and the vector's length of 2 will not be compatible with each other.\n",
    "\n",
    "![alt text](https://drive.google.com/uc?export=download&id=1ht8GtbplkKRQEQEcpFz4iCiJfg8bdCn8)\n",
    "\n",
    "What can we do?\n",
    "\n",
    "We need to let Numpy know that we want to compare the vector to the axis with index #0 from the matrix, instead of the axis with index #1. Because the axis comparison begins from the back, the vector must be manually made to be 2 dimensional, by the addition of an extra (length 1) last axis. So, we'll manually reshape the (2,) shaped vector into a (2, 1) shape and after that, perform the addition."
   ]
  },
  {
   "cell_type": "code",
   "execution_count": null,
   "metadata": {
    "colab": {
     "base_uri": "https://localhost:8080/",
     "height": 235
    },
    "id": "goCaNVEJB_21",
    "outputId": "7bc4c6c4-bfad-44fd-f939-6590f604227d"
   },
   "outputs": [],
   "source": [
    "a = np.arange(6, dtype=np.int32).reshape((2,3))\n",
    "print(\"The 2D 'a' array:\\n\", a)\n",
    "print(\"   ... its shape is\", a.shape)\n",
    "\n",
    "vec = np.arange(10,30,10, dtype=np.int32)\n",
    "print(\"\\nThe 1D 'vec' array:\\n\", vec)\n",
    "print(\"   ... its shape is\", vec.shape)\n",
    "\n",
    "a = a + vec.reshape((2, 1))\n",
    "print(\"\\nThe modified 'a' array:\\n\", a)"
   ]
  },
  {
   "cell_type": "markdown",
   "metadata": {
    "id": "RpU2WOeiCMyU"
   },
   "source": [
    "The operation was successful, the following happened: the (2,1) shaped vector that we made to be 2 dimensional repeated along axis #1 three times. This is of course just a view because actually, it's only the iteration over the vector that changed, so it still takes up 2 elements of space in memory.\n",
    "\n",
    "![alt text](https://drive.google.com/uc?export=download&id=1G-cPJzXbpzXoHXUJwJ-lxk4LA8PsyI7d)"
   ]
  },
  {
   "cell_type": "markdown",
   "metadata": {
    "id": "T3Jk-zmNDnML"
   },
   "source": [
    "We can create a multiplication table using broadcasting:"
   ]
  },
  {
   "cell_type": "code",
   "execution_count": null,
   "metadata": {
    "colab": {
     "base_uri": "https://localhost:8080/",
     "height": 253
    },
    "id": "fbdBrSuxDu2j",
    "outputId": "8b8a2242-5950-4833-effc-2742098642cc"
   },
   "outputs": [],
   "source": [
    "v1 = np.arange(3, dtype=np.int32)\n",
    "print(\"The 'v1' vector:\\n\", v1)\n",
    "print(\"   ... its shape is\", v1.shape)\n",
    "\n",
    "v2 = (np.arange(3, dtype=np.int32)+3).reshape(3,1)\n",
    "print(\"The 'v2' vector:\\n\", v2)\n",
    "print(\"   ... its shape is\", v2.shape)\n",
    "\n",
    "r = v1 * v2\n",
    "print(\"\\nThe result array:\\n\", r)"
   ]
  },
  {
   "cell_type": "markdown",
   "metadata": {
    "id": "neQPBqrKDyLd"
   },
   "source": [
    "This time the shape of both arrays changed in order to match them together. The first, (3,) shaped vector got a new axis at index #0, so its dimensions match the second vector, making its shape (1,3). Now the first vector's 3 long axis is matched with the other vector's 1 length axis, while the second actor's 3 length axis is matched with the first vector's new axis by Numpy, so along both axes, the length of 1 is extended to a length of 3 by virtually repeating elements. So, in the end, two (3,3) shaped matrices will have their elements multiplied together in pairs, which will return the final result.\n",
    "\n",
    "![alt text](https://drive.google.com/uc?export=download&id=1LYRdTn-99cFHtCZD3teSNP8bK-zWFG8b)"
   ]
  },
  {
   "cell_type": "markdown",
   "metadata": {
    "id": "KxW8hQi0FE8k"
   },
   "source": [
    "**So what are the exact rules of broadcasting?**\n",
    "\n",
    "- If the dimensions of two arrays do not match, the array with fewer dimensions gets new (length of 1) first axes. Just enough so that their dimensions match.\n",
    "- Then the two arrays axes get paired and compared: the first array's axis with index #i has to have a length which is compatible with the second arrays #i axis. The two axes are compatible if their length is equal or either has a length of 1. If their length is equal, there is no need for repetition along the given axis. If their length is not equal and one of the arrays' axis has a length of 1, then along that array the entire array is repeated, enough times that the axis' length matches the length of the other array's axis.\n",
    "- If two arrays are incompatible along any of the axes, then Numpy throws an error and the broadcasting cannot be performed.\n",
    "\n",
    "Documentation: https://docs.scipy.org/doc/numpy/user/basics.broadcasting.html"
   ]
  },
  {
   "cell_type": "markdown",
   "metadata": {
    "id": "Oa31I1CYH-cP"
   },
   "source": [
    "**The `None` index**\n",
    "\n",
    "If we want to add a new (length 1) axis to the shape of the array, the `None` (or `np.newaxis`) index is something we can use."
   ]
  },
  {
   "cell_type": "code",
   "execution_count": null,
   "metadata": {
    "colab": {
     "base_uri": "https://localhost:8080/"
    },
    "id": "uzR_XQKqIxbF",
    "outputId": "62114cb0-68a2-42d8-a929-229e066bc6fb"
   },
   "outputs": [],
   "source": [
    "# the previous code block in a more compact way\n",
    "\n",
    "r = np.arange(3, dtype=np.int32) * (np.arange(3, dtype=np.int32)+3)[:,None]\n",
    "\n",
    "print(\"\\nThe result array:\\n\", r)\n",
    "print((np.arange(3, dtype=np.int32)+3)[:,None].shape)"
   ]
  },
  {
   "cell_type": "markdown",
   "metadata": {
    "id": "S0xj69F8Jr1X"
   },
   "source": [
    "**Some important element-by-element (elementwise) operation**"
   ]
  },
  {
   "cell_type": "code",
   "execution_count": null,
   "metadata": {
    "colab": {
     "base_uri": "https://localhost:8080/",
     "height": 907
    },
    "id": "S2aZXus3Jz79",
    "outputId": "6e31f239-2dc1-48b1-b08e-d6af979b6d31"
   },
   "outputs": [],
   "source": [
    "a = np.arange(6, dtype=np.int32).reshape((2,3))\n",
    "print(\"The 2D 'a' array:\\n\", a)\n",
    "print(\"   ... its shape is\", a.shape)\n",
    "\n",
    "vec = np.array([2,4], dtype=np.int32)[:,None]\n",
    "print(\"\\nThe 'vec' array:\\n\", vec)\n",
    "print(\"   ... its shape is\", vec.shape)\n",
    "\n",
    "#\n",
    "print(\"\\nAdding:\\n\", a+vec)\n",
    "print(\"\\nSubtracting:\\n\", a-vec)\n",
    "print(\"\\nMultiplying:\\n\", a*vec)\n",
    "print(\"\\nFloat division:\\n\", a/vec)   # this would be integer div in Python2 since both array are of int type!!!\n",
    "print(\"\\nInteger division:\\n\", a//vec)\n",
    "print(\"\\nPower:\\n\", a**vec)\n",
    "print(\"\\nModulo:\\n\", a%vec)\n",
    "print(\"\\nElementwise maximum:\\n\", np.maximum(a, vec))\n",
    "print(\"\\nEqual:\\n\", a == vec)\n",
    "print(\"\\nGreater:\\n\", a > vec)"
   ]
  },
  {
   "cell_type": "markdown",
   "metadata": {
    "id": "E3G3DqcU7Sgx"
   },
   "source": [
    "**Elementwise operations on bool type arrays:**"
   ]
  },
  {
   "cell_type": "code",
   "execution_count": null,
   "metadata": {
    "colab": {
     "base_uri": "https://localhost:8080/"
    },
    "id": "Ee33Tyx-7aXh",
    "outputId": "b564b268-b66e-4f87-e2c2-cb74d05157cb"
   },
   "outputs": [],
   "source": [
    "a = np.arange(10, dtype=np.int32).reshape((2,5))\n",
    "b = (a % 3 == 0)    # True for elements divisible by 3\n",
    "print(\"The 2D 'b' array:\\n\", b)\n",
    "print(\"   ... its shape is\", b.shape)\n",
    "print(\"   ... its data type is\", b.dtype)  # np.bool_\n",
    "\n",
    "c = (a % 2 != 0)    # True for elements not divisible by 2 (odd numbers)\n",
    "for i in range(2):\n",
    "  for j in range(5):\n",
    "    c[i,j] = a[i,j] % 2 != 0\n",
    "\n",
    "print(\"\\nThe 2D 'c' array:\\n\", c)\n",
    "print(\"   ... its shape is\", c.shape)\n",
    "print(\"   ... its data type is\", c.dtype)  # np.bool_\n",
    "\n",
    "print(\"\\nElementwise logical AND of the two arrays:\\n\", b & c)  # 'and' (1.2 and 1) => (True and True)\n",
    "np.logical_and(b, c)\n",
    "print(\"\\nElementwise logical OR of the two arrays:\\n\", b | c)\n",
    "print(\"\\nElementwise logical NOT of array 'b':\\n\", ~b)\n"
   ]
  }
 ],
 "metadata": {
  "colab": {
   "provenance": []
  },
  "kernelspec": {
   "display_name": "Python 3 (ipykernel)",
   "language": "python",
   "name": "python3"
  },
  "language_info": {
   "codemirror_mode": {
    "name": "ipython",
    "version": 3
   },
   "file_extension": ".py",
   "mimetype": "text/x-python",
   "name": "python",
   "nbconvert_exporter": "python",
   "pygments_lexer": "ipython3",
   "version": "3.9.13"
  }
 },
 "nbformat": 4,
 "nbformat_minor": 1
}
